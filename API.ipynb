{
 "cells": [
  {
   "cell_type": "code",
   "execution_count": null,
   "metadata": {},
   "outputs": [],
   "source": [
    "#Primer paso que se realizo fue importar todas las librerias que vamos a utilizar\n",
    "import pandas as pd\n",
    "import json\n",
    "import re\n",
    "from fastapi import FastAPI\n",
    "from datetime import datetime"
   ]
  },
  {
   "cell_type": "code",
   "execution_count": null,
   "metadata": {},
   "outputs": [],
   "source": [
    "# Crear una instancia de FastAPI\n",
    "app = FastAPI()\n",
    "#Formula para Director\n",
    "@app.get(\"/director/{director}\")\n",
    "def get_director(director: str):\n",
    "    df1 = df[df[\"director\"].notna() &df[\"director\"].str.contains(director)]\n",
    "    df1[\"ganancia\"] = df1[\"revenue\"] - df1[\"budget\"]\n",
    "    retorno_director = df1[\"return\"].sum()\n",
    "    resp = df1[[\"title\", \"release_year\", \"return\", \"budget\", \"ganancia\"]]\n",
    "\n",
    "    return [director, retorno_director, resp]"
   ]
  },
  {
   "cell_type": "code",
   "execution_count": null,
   "metadata": {},
   "outputs": [],
   "source": [
    "## Formula para VOTOS\n",
    "@app.get('/votos_titulo')\n",
    "def votos_titulo(titulo_de_la_filmacion):\n",
    "    pelicula = df[df[\"title\"] == titulo_de_la_filmacion]\n",
    "    \n",
    "    if pelicula.empty:\n",
    "        return \"No se encontró la filmación en el dataset.\"\n",
    "    \n",
    "    cantidad_votos = pelicula[\"vote_count\"].iloc[0]\n",
    "    \n",
    "    if cantidad_votos < 2000:\n",
    "        return \"La filmación no cumple con la cantidad mínima de valoraciones.\"\n",
    "    \n",
    "    promedio_votos = pelicula[\"vote_average\"].iloc[0]\n",
    "    mensaje = f\"La película {titulo_de_la_filmacion} fue estrenada en el año {pelicula['release_year'].iloc[0]}. Cuenta con un total de {cantidad_votos} valoraciones, con un promedio de {promedio_votos}.\"\n",
    "    \n",
    "    return mensaje"
   ]
  },
  {
   "cell_type": "code",
   "execution_count": null,
   "metadata": {},
   "outputs": [],
   "source": [
    "## Formula para Actor\n",
    "@app.get('/get_actor')\n",
    "def get_actor(nombre_actor):\n",
    "    actor_df = df[df[\"actors\"].str.contains(nombre_actor, case=False, na=False)]\n",
    "    actor_df[\"retorno\"] = actor_df[\"revenue\"] - actor_df[\"budget\"]\n",
    "    \n",
    "    cantidad_peliculas = len(actor_df)\n",
    "    retorno_total = actor_df[\"retorno\"].sum()\n",
    "    promedio_retorno = actor_df[\"retorno\"].mean()\n",
    "    \n",
    "    mensaje = f\"El actor {nombre_actor} ha participado en {cantidad_peliculas} filmaciones. Ha conseguido un retorno total de {retorno_total} con un promedio de {promedio_retorno} por filmación.\"\n",
    "    \n",
    "    return mensaje"
   ]
  },
  {
   "cell_type": "code",
   "execution_count": null,
   "metadata": {},
   "outputs": [],
   "source": [
    "# Formula para Score\n",
    "@app.get('/score_titulo')\n",
    "def score_titulo(titulo_de_la_filmacion):\n",
    "    pelicula = df[df[\"title\"] == titulo_de_la_filmacion]\n",
    "    \n",
    "    if pelicula.empty:\n",
    "        return \"No se encontró la filmación en el dataset.\"\n",
    "    \n",
    "    titulo = pelicula[\"title\"].iloc[0]\n",
    "    ano_estreno = pelicula[\"release_year\"].iloc[0]\n",
    "    score = pelicula[\"popularity\"].iloc[0]\n",
    "    \n",
    "    mensaje = f\"La película {titulo} fue estrenada en el año {ano_estreno} con un score/popularidad de {score}.\"\n",
    "    \n",
    "    return mensaje"
   ]
  },
  {
   "cell_type": "code",
   "execution_count": null,
   "metadata": {},
   "outputs": [],
   "source": [
    "# Convertir columna a tipo datetime\n",
    "df['release_year'] = pd.to_datetime(df['release_year'])\n",
    "\n",
    "# Extraer el mes de la columna 'release_date'\n",
    "df['release_month'] = df['release_year'].dt.month"
   ]
  },
  {
   "cell_type": "code",
   "execution_count": null,
   "metadata": {},
   "outputs": [],
   "source": [
    "#Cambio los numeros a su mes correspondiente\n",
    "def convertir_mes_letras(numero_mes):\n",
    "    meses = {\n",
    "        1: \"enero\",\n",
    "        2: \"febrero\",\n",
    "        3: \"marzo\",\n",
    "        4: \"abril\",\n",
    "        5: \"mayo\",\n",
    "        6: \"junio\",\n",
    "        7: \"julio\",\n",
    "        8: \"agosto\",\n",
    "        9: \"septiembre\",\n",
    "        10: \"octubre\",\n",
    "        11: \"noviembre\",\n",
    "        12: \"diciembre\"\n",
    "    }\n",
    "    \n",
    "    if numero_mes in meses:\n",
    "        return meses[numero_mes]\n",
    "    else:\n",
    "        return \"Mes inválido\"\n",
    "\n",
    "# Supongamos que tienes un DataFrame llamado df con una columna \"mes\" que contiene números de mes\n",
    "df[\"release_month\"] = df[\"release_month\"].map(convertir_mes_letras)"
   ]
  },
  {
   "cell_type": "code",
   "execution_count": null,
   "metadata": {},
   "outputs": [],
   "source": [
    "#Formula para la cantidad de filmaciones por MES\n",
    "@app.get('/cantidad_filmaciones_mes')\n",
    "def cantidad_filmaciones_mes(mes):\n",
    "    mes = mes.lower()\n",
    "    peliculas_mes = df[df[\"release_month\"] == mes]\n",
    "    cantidad = len(peliculas_mes)\n",
    "    \n",
    "    mensaje = f\"{cantidad} cantidad de películas fueron estrenadas en el mes {mes.capitalize()}.\"\n",
    "    \n",
    "    return mensaje"
   ]
  },
  {
   "cell_type": "code",
   "execution_count": null,
   "metadata": {},
   "outputs": [],
   "source": [
    "#Sacamos los dias de datetime creando la clumna de solo dias\n",
    "df['release_day'] = df['release_year'].dt.day"
   ]
  },
  {
   "cell_type": "code",
   "execution_count": null,
   "metadata": {},
   "outputs": [],
   "source": [
    "#Se obtiene el nombre de cada dia en formato texto\n",
    "df[\"release_year\"] = pd.to_datetime(df[\"release_year\"])  \n",
    "\n",
    "def obtener_nombre_dia(fecha):\n",
    "    nombre_dia = fecha.strftime(\"%A\")\n",
    "    return nombre_dia\n",
    "\n",
    "df[\"nombre_dia\"] = df[\"release_year\"].apply(obtener_nombre_dia)"
   ]
  },
  {
   "cell_type": "code",
   "execution_count": null,
   "metadata": {},
   "outputs": [],
   "source": [
    "#Pasamos los dias de Ingles a Español\n",
    "diccionario_dias = {\n",
    "    \"Monday\": \"Lunes\",\n",
    "    \"Tuesday\": \"Martes\",\n",
    "    \"Wednesday\": \"Miercoles\",\n",
    "    \"Thursday\": \"Jueves\",\n",
    "    \"Friday\": \"Viernes\",\n",
    "    \"Saturday\": \"Sábado\",\n",
    "    \"Sunday\": \"Domingo\"\n",
    "}\n",
    "\n",
    "df[\"nombre_dia_espanol\"] = df[\"nombre_dia\"].map(diccionario_dias)"
   ]
  },
  {
   "cell_type": "code",
   "execution_count": null,
   "metadata": {},
   "outputs": [],
   "source": [
    "#Formula para ver cuantas peliculas fueron estrenadas por cierto dia\n",
    "@app.get('/cantidad_filmaciones_dia/{dia}')\n",
    "def cantidad_filmaciones_dia(dia):\n",
    "    dia = dia.lower()\n",
    "    filmaciones_dia = df[df[\"dia_espanol\"].str.lower() == dia]\n",
    "    cantidad = len(filmaciones_dia)\n",
    "    \n",
    "    mensaje = f\"{cantidad} cantidad de películas fueron estrenadas en el día {dia.capitalize()}.\"\n",
    "    \n",
    "    return mensaje"
   ]
  },
  {
   "cell_type": "code",
   "execution_count": null,
   "metadata": {},
   "outputs": [],
   "source": [
    "#Se boran columnas que no sirven para limpiar el df\n",
    "df.drop('nombre_dia', axis=1, inplace=True)\n",
    "df.drop('original_language', axis=1, inplace=True)"
   ]
  },
  {
   "cell_type": "code",
   "execution_count": null,
   "metadata": {},
   "outputs": [],
   "source": [
    "#Se cambia el nombre de una nueva columna\n",
    "df.rename(columns={'nombre_dia_espanol':'dia_espanol'}, inplace=True)"
   ]
  },
  {
   "cell_type": "code",
   "execution_count": null,
   "metadata": {},
   "outputs": [],
   "source": [
    "#Ultimo push para guardar el dataset listo\n",
    "df.to_csv('Csv_Proyecto_Terminado.csv', index=False)"
   ]
  }
 ],
 "metadata": {
  "language_info": {
   "name": "python"
  },
  "orig_nbformat": 4
 },
 "nbformat": 4,
 "nbformat_minor": 2
}
